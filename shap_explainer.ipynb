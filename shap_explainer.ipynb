{
 "cells": [
  {
   "cell_type": "markdown",
   "id": "4c4521b4-6cc7-48d6-96c8-d2ab34843fcc",
   "metadata": {},
   "source": [
    "# SHAP Explainer"
   ]
  },
  {
   "cell_type": "markdown",
   "id": "67101aba-0529-4448-a0ca-083805073953",
   "metadata": {},
   "source": [
    "## Import Libraries and Dataset"
   ]
  },
  {
   "cell_type": "code",
   "execution_count": 7,
   "id": "8442d6be-5d0d-42b9-b8d7-5ff1e228a95a",
   "metadata": {},
   "outputs": [
    {
     "ename": "TypeError",
     "evalue": "write() argument must be str, not dict",
     "output_type": "error",
     "traceback": [
      "\u001b[0;31m---------------------------------------------------------------------------\u001b[0m",
      "\u001b[0;31mTypeError\u001b[0m                                 Traceback (most recent call last)",
      "Cell \u001b[0;32mIn[7], line 30\u001b[0m\n\u001b[1;32m     28\u001b[0m shap_html \u001b[38;5;241m=\u001b[39m shap\u001b[38;5;241m.\u001b[39mplots\u001b[38;5;241m.\u001b[39mforce(explainer\u001b[38;5;241m.\u001b[39mexpected_value, shap_values[\u001b[38;5;241m0\u001b[39m]\u001b[38;5;241m.\u001b[39mvalues, X_test\u001b[38;5;241m.\u001b[39miloc[\u001b[38;5;241m0\u001b[39m], matplotlib\u001b[38;5;241m=\u001b[39m\u001b[38;5;28;01mFalse\u001b[39;00m)\n\u001b[1;32m     29\u001b[0m \u001b[38;5;28;01mwith\u001b[39;00m \u001b[38;5;28mopen\u001b[39m(os\u001b[38;5;241m.\u001b[39mpath\u001b[38;5;241m.\u001b[39mjoin(OUTPUT_DIR, \u001b[38;5;124m\"\u001b[39m\u001b[38;5;124mshap_force_plot.html\u001b[39m\u001b[38;5;124m\"\u001b[39m), \u001b[38;5;124m\"\u001b[39m\u001b[38;5;124mw\u001b[39m\u001b[38;5;124m\"\u001b[39m) \u001b[38;5;28;01mas\u001b[39;00m f:\n\u001b[0;32m---> 30\u001b[0m     f\u001b[38;5;241m.\u001b[39mwrite(shap_html\u001b[38;5;241m.\u001b[39mdata)\n\u001b[1;32m     32\u001b[0m \u001b[38;5;28mprint\u001b[39m(\u001b[38;5;124m\"\u001b[39m\u001b[38;5;124mSHAP explainability plots generated and saved.\u001b[39m\u001b[38;5;124m\"\u001b[39m)\n",
      "\u001b[0;31mTypeError\u001b[0m: write() argument must be str, not dict"
     ]
    }
   ],
   "source": [
    "import shap\n",
    "import joblib\n",
    "import matplotlib.pyplot as plt\n",
    "import os\n",
    "import numpy as np\n",
    "\n",
    "# Paths\n",
    "MODEL_PATH = \"xgb_model.joblib\"\n",
    "DATA_PATH = \"preprocessed_data.pkl\"\n",
    "OUTPUT_DIR = \"shap_outputs\"\n",
    "os.makedirs(OUTPUT_DIR, exist_ok=True)\n",
    "\n",
    "# Load model and data\n",
    "model = joblib.load(MODEL_PATH)\n",
    "X_train, X_test, y_train, y_test = joblib.load(DATA_PATH)\n"
   ]
  },
  {
   "cell_type": "markdown",
   "id": "43711ada-12a9-42f4-8a28-a580fa68e998",
   "metadata": {},
   "source": [
    "## SHAP Explainer"
   ]
  },
  {
   "cell_type": "code",
   "execution_count": 10,
   "id": "0c5f782b-ef26-4f52-88c9-7a2c6b9cef7b",
   "metadata": {},
   "outputs": [
    {
     "ename": "TypeError",
     "evalue": "write() argument must be str, not dict",
     "output_type": "error",
     "traceback": [
      "\u001b[0;31m---------------------------------------------------------------------------\u001b[0m",
      "\u001b[0;31mTypeError\u001b[0m                                 Traceback (most recent call last)",
      "Cell \u001b[0;32mIn[10], line 14\u001b[0m\n\u001b[1;32m     12\u001b[0m shap_html \u001b[38;5;241m=\u001b[39m shap\u001b[38;5;241m.\u001b[39mplots\u001b[38;5;241m.\u001b[39mforce(explainer\u001b[38;5;241m.\u001b[39mexpected_value, shap_values[\u001b[38;5;241m0\u001b[39m]\u001b[38;5;241m.\u001b[39mvalues, X_test\u001b[38;5;241m.\u001b[39miloc[\u001b[38;5;241m0\u001b[39m], matplotlib\u001b[38;5;241m=\u001b[39m\u001b[38;5;28;01mFalse\u001b[39;00m)\n\u001b[1;32m     13\u001b[0m \u001b[38;5;28;01mwith\u001b[39;00m \u001b[38;5;28mopen\u001b[39m(os\u001b[38;5;241m.\u001b[39mpath\u001b[38;5;241m.\u001b[39mjoin(OUTPUT_DIR, \u001b[38;5;124m\"\u001b[39m\u001b[38;5;124mshap_force_plot.html\u001b[39m\u001b[38;5;124m\"\u001b[39m), \u001b[38;5;124m\"\u001b[39m\u001b[38;5;124mw\u001b[39m\u001b[38;5;124m\"\u001b[39m) \u001b[38;5;28;01mas\u001b[39;00m f:\n\u001b[0;32m---> 14\u001b[0m     f\u001b[38;5;241m.\u001b[39mwrite(shap_html\u001b[38;5;241m.\u001b[39mdata)\n\u001b[1;32m     16\u001b[0m \u001b[38;5;28mprint\u001b[39m(\u001b[38;5;124m\"\u001b[39m\u001b[38;5;124mSHAP explainability plots generated and saved.\u001b[39m\u001b[38;5;124m\"\u001b[39m)\n",
      "\u001b[0;31mTypeError\u001b[0m: write() argument must be str, not dict"
     ]
    }
   ],
   "source": [
    "# Create SHAP explainer and values\n",
    "explainer = shap.Explainer(model, X_train)\n",
    "shap_values = explainer(X_test)\n",
    "\n",
    "# Save SHAP summary plot (global)\n",
    "plt.title(\"SHAP Summary Plot\")\n",
    "shap.summary_plot(shap_values, X_test, show=False)\n",
    "plt.savefig(os.path.join(OUTPUT_DIR, \"shap_summary_plot.png\"), bbox_inches='tight', dpi=300)\n",
    "plt.close()\n",
    "\n",
    "# Optional: Save one instance's SHAP force plot (as HTML)\n",
    "shap_html = shap.plots.force(explainer.expected_value, shap_values[0].values, X_test.iloc[0], matplotlib=False)\n",
    "with open(os.path.join(OUTPUT_DIR, \"shap_force_plot.html\"), \"w\") as f:\n",
    "    f.write(shap_html.data)\n",
    "\n",
    "print(\"SHAP explainability plots generated and saved.\")"
   ]
  },
  {
   "cell_type": "code",
   "execution_count": null,
   "id": "2c940bf7-f855-4b21-9da5-0b86694c1b2b",
   "metadata": {},
   "outputs": [],
   "source": []
  }
 ],
 "metadata": {
  "kernelspec": {
   "display_name": "Python 3 (ipykernel)",
   "language": "python",
   "name": "python3"
  },
  "language_info": {
   "codemirror_mode": {
    "name": "ipython",
    "version": 3
   },
   "file_extension": ".py",
   "mimetype": "text/x-python",
   "name": "python",
   "nbconvert_exporter": "python",
   "pygments_lexer": "ipython3",
   "version": "3.11.7"
  }
 },
 "nbformat": 4,
 "nbformat_minor": 5
}

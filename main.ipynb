{
 "cells": [
  {
   "cell_type": "code",
   "execution_count": 2,
   "id": "3c2ff8be-286f-44d5-9d5a-0bd3231fd590",
   "metadata": {},
   "outputs": [],
   "source": [
    "from fastapi import FastAPI, HTTPException\n",
    "from pydantic import BaseModel\n",
    "import joblib\n",
    "import pandas as pd\n",
    "import shap\n",
    "import xgboost as xgb\n",
    "\n",
    "app = FastAPI()\n",
    "\n",
    "# Load model and encoder\n",
    "model = joblib.load(\"xgb_model.joblib\")\n",
    "\n",
    "# Define input schema\n",
    "class EmissionsInput(BaseModel):\n",
    "    commodity: str\n",
    "    production_value: float\n",
    "    production_unit: str\n",
    "    parent_entity: str\n",
    "    reporting_entity: str\n",
    "    year: int\n",
    "\n",
    "@app.post(\"/predict\")\n",
    "def predict(input_data: EmissionsInput):\n",
    "    df = pd.DataFrame([input_data.dict()])\n",
    "    # Preprocess the input here (label encoding, scaling if needed)\n",
    "    # Apply same transformations used during training\n",
    "\n",
    "    prediction = model.predict(df)[0]\n",
    "    return {\"predicted_emissions\": prediction}\n",
    "\n"
   ]
  },
  {
   "cell_type": "code",
   "execution_count": null,
   "id": "4832b429-6647-443d-9c15-908786f61069",
   "metadata": {},
   "outputs": [],
   "source": []
  }
 ],
 "metadata": {
  "kernelspec": {
   "display_name": "Python 3 (ipykernel)",
   "language": "python",
   "name": "python3"
  },
  "language_info": {
   "codemirror_mode": {
    "name": "ipython",
    "version": 3
   },
   "file_extension": ".py",
   "mimetype": "text/x-python",
   "name": "python",
   "nbconvert_exporter": "python",
   "pygments_lexer": "ipython3",
   "version": "3.11.7"
  }
 },
 "nbformat": 4,
 "nbformat_minor": 5
}

{
 "cells": [
  {
   "cell_type": "markdown",
   "id": "8f70f4d5-cd62-4cee-b6a3-de747724d8a5",
   "metadata": {},
   "source": [
    "Utlis"
   ]
  },
  {
   "cell_type": "code",
   "execution_count": 3,
   "id": "daf449f4-71de-4468-b549-c09ff2baf11b",
   "metadata": {},
   "outputs": [],
   "source": [
    "import numpy as np\n",
    "import pandas as pd\n",
    "from sklearn.preprocessing import LabelEncoder\n",
    "import os\n",
    "\n",
    "\n",
    "def cap_outliers_iqr(df, columns):\n",
    "    for col in columns:\n",
    "        Q1 = df[col].quantile(0.25)\n",
    "        Q3 = df[col].quantile(0.75)\n",
    "        IQR = Q3 - Q1\n",
    "        lower = Q1 - 1.5 * IQR\n",
    "        upper = Q3 + 1.5 * IQR\n",
    "        df[col] = np.where(df[col] > upper, upper, np.where(df[col] < lower, lower, df[col]))\n",
    "    return df\n",
    "\n",
    "\n",
    "def encode_labels(df, columns):\n",
    "    encoders = {}\n",
    "    for col in columns:\n",
    "        le = LabelEncoder()\n",
    "        df[col] = le.fit_transform(df[col].astype(str))\n",
    "        encoders[col] = le\n",
    "    return df, encoders\n",
    "\n",
    "\n",
    "def apply_label_encoders(df, encoders):\n",
    "    for col, le in encoders.items():\n",
    "        if col in df.columns:\n",
    "            df[col] = le.transform(df[col].astype(str))\n",
    "    return df\n",
    "\n",
    "\n",
    "def save_plot(fig, filename, folder=\"charts\"):\n",
    "    os.makedirs(folder, exist_ok=True)\n",
    "    path = os.path.join(folder, filename)\n",
    "    fig.savefig(path, bbox_inches='tight', dpi=300)\n",
    "    print(f\"✅ Plot saved to {path}\")\n",
    "    return path\n"
   ]
  },
  {
   "cell_type": "code",
   "execution_count": null,
   "id": "38d883c9-934f-4aed-85b0-8db69d14b1f0",
   "metadata": {},
   "outputs": [],
   "source": []
  }
 ],
 "metadata": {
  "kernelspec": {
   "display_name": "Python 3 (ipykernel)",
   "language": "python",
   "name": "python3"
  },
  "language_info": {
   "codemirror_mode": {
    "name": "ipython",
    "version": 3
   },
   "file_extension": ".py",
   "mimetype": "text/x-python",
   "name": "python",
   "nbconvert_exporter": "python",
   "pygments_lexer": "ipython3",
   "version": "3.11.7"
  }
 },
 "nbformat": 4,
 "nbformat_minor": 5
}

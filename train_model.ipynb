{
 "cells": [
  {
   "cell_type": "markdown",
   "id": "266045af-597d-41cd-ac6e-ae573df76fca",
   "metadata": {},
   "source": [
    "# Train Model"
   ]
  },
  {
   "cell_type": "markdown",
   "id": "92bc3bd0-4070-4f1b-a916-89013e46b6cf",
   "metadata": {},
   "source": [
    "## Import Libraries and Data"
   ]
  },
  {
   "cell_type": "code",
   "execution_count": 41,
   "id": "723847ba-f413-4b6f-aff8-86d19668f0a4",
   "metadata": {},
   "outputs": [],
   "source": [
    "import joblib\n",
    "import xgboost as xgb\n",
    "from sklearn.metrics import mean_absolute_error, mean_squared_error, r2_score\n",
    "import numpy as np\n",
    "import os\n",
    "\n",
    "# Constants\n",
    "MODEL_DATA_PATH = \"preprocessed_data.pkl\"\n",
    "MODEL_OUTPUT_PATH = \"xgb_model.joblib\"\n",
    "\n",
    "# Load preprocessed data\n",
    "X_train, X_test, y_train, y_test = joblib.load(MODEL_DATA_PATH)"
   ]
  },
  {
   "cell_type": "markdown",
   "id": "a9287e51-63dd-41db-85b3-62c1e40c90de",
   "metadata": {},
   "source": [
    "## Train XGBoost Model"
   ]
  },
  {
   "cell_type": "code",
   "execution_count": 44,
   "id": "3374b9df-2bfa-4e91-a058-1e93db099aea",
   "metadata": {},
   "outputs": [],
   "source": [
    "# Train XGBoost model\n",
    "model = xgb.XGBRegressor(\n",
    "    n_estimators=100,\n",
    "    max_depth=6,\n",
    "    learning_rate=0.1,\n",
    "    objective='reg:squarederror',\n",
    "    random_state=42\n",
    ")\n",
    "\n",
    "model.fit(X_train, y_train)\n",
    "\n",
    "# Make predictions\n",
    "y_pred = model.predict(X_test)"
   ]
  },
  {
   "cell_type": "markdown",
   "id": "22b66fe2-2dd5-4732-a102-fb9c0e2c500d",
   "metadata": {},
   "source": [
    "## Metrics"
   ]
  },
  {
   "cell_type": "code",
   "execution_count": 47,
   "id": "67bf051a-7d06-46b5-a971-a98a670337b8",
   "metadata": {},
   "outputs": [
    {
     "name": "stdout",
     "output_type": "stream",
     "text": [
      "\n",
      "Model Evaluation Results\n",
      "------------------------\n",
      "MAE:  0.2779\n",
      "RMSE: 0.8724\n",
      "R^2:  0.9996\n",
      "\n",
      "✅ Model trained and saved successfully.\n"
     ]
    }
   ],
   "source": [
    "# Evaluate model\n",
    "mae = mean_absolute_error(y_test, y_pred)\n",
    "rmse = mean_squared_error(y_test, y_pred, squared=False)\n",
    "r2 = r2_score(y_test, y_pred)\n",
    "\n",
    "print(\"\\nModel Evaluation Results\")\n",
    "print(\"------------------------\")\n",
    "print(f\"MAE:  {mae:.4f}\")\n",
    "print(f\"RMSE: {rmse:.4f}\")\n",
    "print(f\"R^2:  {r2:.4f}\")\n",
    "\n",
    "# Save the model\n",
    "joblib.dump(model, MODEL_OUTPUT_PATH)\n",
    "print(\"\\n✅ Model trained and saved successfully.\")"
   ]
  },
  {
   "cell_type": "code",
   "execution_count": null,
   "id": "b240f6d3-ead7-4740-99b2-b85e0cb80425",
   "metadata": {},
   "outputs": [],
   "source": []
  }
 ],
 "metadata": {
  "kernelspec": {
   "display_name": "Python 3 (ipykernel)",
   "language": "python",
   "name": "python3"
  },
  "language_info": {
   "codemirror_mode": {
    "name": "ipython",
    "version": 3
   },
   "file_extension": ".py",
   "mimetype": "text/x-python",
   "name": "python",
   "nbconvert_exporter": "python",
   "pygments_lexer": "ipython3",
   "version": "3.11.7"
  }
 },
 "nbformat": 4,
 "nbformat_minor": 5
}

{
 "cells": [
  {
   "cell_type": "markdown",
   "id": "504866ca",
   "metadata": {},
   "source": [
    "# Scope 3 Emissions Prediction UI\n",
    "This Voila app allows users to input ERP-style values and receive Scope 3 emissions predictions using a trained XGBoost model."
   ]
  },
  {
   "cell_type": "code",
   "execution_count": 5,
   "id": "b62a733c",
   "metadata": {},
   "outputs": [],
   "source": [
    "import ipywidgets as widgets\n",
    "from IPython.display import display, clear_output\n",
    "import pandas as pd\n",
    "import joblib\n",
    "import shap\n",
    "import xgboost as xgb\n",
    "import numpy as np\n",
    "import matplotlib.pyplot as plt"
   ]
  },
  {
   "cell_type": "code",
   "execution_count": 6,
   "id": "b55e23d8",
   "metadata": {},
   "outputs": [],
   "source": [
    "# Load model and encoders\n",
    "model = joblib.load(\"xgb_model.joblib\")\n",
    "encoders = joblib.load(\"label_encoders.pkl\")"
   ]
  },
  {
   "cell_type": "code",
   "execution_count": 7,
   "id": "bb367c7b",
   "metadata": {},
   "outputs": [],
   "source": [
    "# Define input widgets\n",
    "commodity = widgets.Text(description=\"Commodity:\")\n",
    "production_value = widgets.FloatText(description=\"Production:\")\n",
    "production_unit = widgets.Text(description=\"Unit:\")\n",
    "parent_entity = widgets.Text(description=\"Parent:\")\n",
    "reporting_entity = widgets.Text(description=\"Site:\")\n",
    "year = widgets.IntText(description=\"Year:\")\n",
    "\n",
    "output = widgets.Output()\n",
    "submit_button = widgets.Button(description=\"Predict Emissions\", button_style='success')"
   ]
  },
  {
   "cell_type": "code",
   "execution_count": 1,
   "id": "c68b5512",
   "metadata": {},
   "outputs": [],
   "source": [
    "# Prediction function\n",
    "def on_submit(b):\n",
    "    with output:\n",
    "        clear_output()\n",
    "        # Assemble input data\n",
    "        user_input = pd.DataFrame([{\n",
    "            \"commodity\": commodity.value,\n",
    "            \"production_value\": production_value.value,\n",
    "            \"production_unit\": production_unit.value,\n",
    "            \"parent_entity\": parent_entity.value,\n",
    "            \"reporting_entity\": reporting_entity.value,\n",
    "            \"year\": year.value\n",
    "        }])\n",
    "\n",
    "        # Apply label encoding\n",
    "        for col in [\"commodity\", \"production_unit\", \"parent_entity\", \"reporting_entity\"]:\n",
    "            if col in encoders:\n",
    "                user_input[col] = encoders[col].transform(user_input[col].astype(str))\n",
    "\n",
    "        # Feature engineering\n",
    "        user_input[\"log_production_value\"] = np.log1p(user_input[\"production_value\"])\n",
    "        user_input[\"total_operational_emissions_MtCO2e\"] = 0  # placeholder\n",
    "        user_input[\"emissions_intensity\"] = 0  # placeholder\n",
    "\n",
    "        features = [\n",
    "            'commodity', 'parent_entity', 'parent_type', 'reporting_entity',\n",
    "            'production_unit', 'year', 'log_production_value',\n",
    "            'total_operational_emissions_MtCO2e', 'emissions_intensity'\n",
    "        ]\n",
    "        for col in features:\n",
    "            if col not in user_input.columns:\n",
    "                user_input[col] = 0\n",
    "\n",
    "        user_input = user_input[features]  # re-order\n",
    "\n",
    "        prediction = model.predict(user_input)[0]\n",
    "        print(f\"\\nPredicted Scope 3 Emissions: {prediction:.4f} MtCO2\")\n",
    "\n",
    "        # Explain prediction with SHAP (text-based fallback)\n",
    "        explainer = shap.Explainer(model)\n",
    "        shap_values = explainer(user_input)\n",
    "\n",
    "        # Print top 5 contributing features\n",
    "        top_features = pd.Series(shap_values[0].values, index=user_input.columns)\n",
    "        top_features = top_features.abs().sort_values(ascending=False).head(5)\n",
    "\n",
    "        print(\"\\\\nTop 5 Contributors to Prediction:\")\n",
    "        for feature, value in top_features.items():\n",
    "            print(f\"{feature}: {value:.4f}\")"
   ]
  },
  {
   "cell_type": "code",
   "execution_count": 3,
   "id": "dbd5eeee",
   "metadata": {},
   "outputs": [
    {
     "ename": "NameError",
     "evalue": "name 'widgets' is not defined",
     "output_type": "error",
     "traceback": [
      "\u001b[0;31m---------------------------------------------------------------------------\u001b[0m",
      "\u001b[0;31mNameError\u001b[0m                                 Traceback (most recent call last)",
      "Cell \u001b[0;32mIn[3], line 2\u001b[0m\n\u001b[1;32m      1\u001b[0m \u001b[38;5;66;03m# Bind the button click\u001b[39;00m\n\u001b[0;32m----> 2\u001b[0m title \u001b[38;5;241m=\u001b[39m widgets\u001b[38;5;241m.\u001b[39mHTML(\u001b[38;5;124m\"\u001b[39m\u001b[38;5;124m<h2>Scope 3 Emissions Prediction</h2>\u001b[39m\u001b[38;5;124m\"\u001b[39m)\n\u001b[1;32m      3\u001b[0m submit_button\u001b[38;5;241m.\u001b[39mon_click(on_submit)\n\u001b[1;32m      5\u001b[0m form_items \u001b[38;5;241m=\u001b[39m widgets\u001b[38;5;241m.\u001b[39mVBox([\n\u001b[1;32m      6\u001b[0m     title,\n\u001b[1;32m      7\u001b[0m     commodity,\n\u001b[0;32m   (...)\u001b[0m\n\u001b[1;32m     14\u001b[0m     output\n\u001b[1;32m     15\u001b[0m ])\n",
      "\u001b[0;31mNameError\u001b[0m: name 'widgets' is not defined"
     ]
    }
   ],
   "source": [
    "# Bind the button click\n",
    "title = widgets.HTML(\"<h2>Scope 3 Emissions Prediction</h2>\")\n",
    "submit_button.on_click(on_submit)\n",
    "\n",
    "form_items = widgets.VBox([\n",
    "    title,\n",
    "    commodity,\n",
    "    production_value,\n",
    "    production_unit,\n",
    "    parent_entity,\n",
    "    reporting_entity,\n",
    "    year,\n",
    "    submit_button,\n",
    "    output\n",
    "])\n",
    "\n",
    "display(form_items)"
   ]
  },
  {
   "cell_type": "code",
   "execution_count": null,
   "id": "83b5b33d-7376-45ff-ae7f-44125df3a61f",
   "metadata": {},
   "outputs": [],
   "source": []
  },
  {
   "cell_type": "code",
   "execution_count": null,
   "id": "a6630313-703e-4299-b51e-aa3a0618cb69",
   "metadata": {},
   "outputs": [],
   "source": []
  }
 ],
 "metadata": {
  "kernelspec": {
   "display_name": "Python 3 (ipykernel)",
   "language": "python",
   "name": "python3"
  },
  "language_info": {
   "codemirror_mode": {
    "name": "ipython",
    "version": 3
   },
   "file_extension": ".py",
   "mimetype": "text/x-python",
   "name": "python",
   "nbconvert_exporter": "python",
   "pygments_lexer": "ipython3",
   "version": "3.11.7"
  }
 },
 "nbformat": 4,
 "nbformat_minor": 5
}

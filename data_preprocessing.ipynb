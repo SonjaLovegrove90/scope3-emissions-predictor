{
 "cells": [
  {
   "cell_type": "markdown",
   "id": "8a2d11bb-e99e-4c33-a7a9-47815c3b4d7e",
   "metadata": {},
   "source": [
    "# Data Preprocessing"
   ]
  },
  {
   "cell_type": "markdown",
   "id": "4e680990-4bd5-4064-b0c5-75915c390791",
   "metadata": {},
   "source": [
    "## Import Libraries and Dataset"
   ]
  },
  {
   "cell_type": "code",
   "execution_count": 76,
   "id": "3a928148-60f0-4d5e-88dc-bc515b109c8a",
   "metadata": {},
   "outputs": [],
   "source": [
    "import pandas as pd\n",
    "import numpy as np\n",
    "import os\n",
    "from sklearn.model_selection import train_test_split\n",
    "from sklearn.preprocessing import LabelEncoder\n",
    "from sklearn.impute import KNNImputer\n",
    "import joblib\n",
    "\n",
    "# Global constants\n",
    "DATA_PATH = \"emissions_high_granularity (2).csv\"\n",
    "MODEL_DATA_OUTPUT = \"preprocessed_data.pkl\"\n",
    "LABEL_ENCODERS_PATH = \"label_encoders.pkl\"\n",
    "\n",
    "def load_data(filepath=DATA_PATH):\n",
    "    return pd.read_csv(filepath)"
   ]
  },
  {
   "cell_type": "markdown",
   "id": "e751855d-59ae-4779-a554-9ac970aec087",
   "metadata": {},
   "source": [
    "## Missing Data and Outliers"
   ]
  },
  {
   "cell_type": "code",
   "execution_count": 79,
   "id": "93ee44d6-62d4-444e-b825-1d954f3a11d8",
   "metadata": {},
   "outputs": [],
   "source": [
    "def handle_missing_and_outliers(df):\n",
    "    numerical_cols = [\n",
    "        'total_operational_emissions_MtCO2e',\n",
    "        'product_emissions_MtCO2',\n",
    "        'production_value'\n",
    "    ]\n",
    "\n",
    "    # Replace infinities\n",
    "    df[numerical_cols] = df[numerical_cols].replace([np.inf, -np.inf], np.nan)\n",
    "\n",
    "    # Treat zero values as missing for key columns\n",
    "    for col in numerical_cols:\n",
    "        df[col] = df[col].replace(0, np.nan)\n",
    "\n",
    "    # IQR capping\n",
    "    for col in numerical_cols:\n",
    "        Q1 = df[col].quantile(0.25)\n",
    "        Q3 = df[col].quantile(0.75)\n",
    "        IQR = Q3 - Q1\n",
    "        lower = Q1 - 1.5 * IQR\n",
    "        upper = Q3 + 1.5 * IQR\n",
    "        df[col] = np.where(df[col] > upper, upper, np.where(df[col] < lower, lower, df[col]))\n",
    "\n",
    "    # Impute missing values\n",
    "    imputer = KNNImputer(n_neighbors=5)\n",
    "    df[numerical_cols] = imputer.fit_transform(df[numerical_cols])\n",
    "\n",
    "    return df"
   ]
  },
  {
   "cell_type": "markdown",
   "id": "798c2bc3-6fa5-46db-9b63-2f02b4de5787",
   "metadata": {},
   "source": [
    "## Label Encoding"
   ]
  },
  {
   "cell_type": "code",
   "execution_count": 82,
   "id": "cc913c3e-ea7f-4017-9174-b9a2a0f834b5",
   "metadata": {},
   "outputs": [],
   "source": [
    "def encode_categoricals(df):\n",
    "    label_encoders = {}\n",
    "    cat_cols = ['commodity', 'parent_entity', 'parent_type', 'reporting_entity', 'production_unit']\n",
    "    for col in cat_cols:\n",
    "        le = LabelEncoder()\n",
    "        df[col] = le.fit_transform(df[col].astype(str))\n",
    "        label_encoders[col] = le\n",
    "    return df, label_encoders"
   ]
  },
  {
   "cell_type": "markdown",
   "id": "db86bcc4-d780-4450-8511-08fe50a34b1c",
   "metadata": {},
   "source": [
    "## Feature Engineering"
   ]
  },
  {
   "cell_type": "code",
   "execution_count": 85,
   "id": "ae7368df-fbe1-4e2f-8c2b-3cf2c4d22cba",
   "metadata": {},
   "outputs": [],
   "source": [
    "def engineer_features(df):\n",
    "    df['emissions_intensity'] = df['product_emissions_MtCO2'] / (df['production_value'] + 1e-6)\n",
    "    df['log_production_value'] = np.log1p(df['production_value'])\n",
    "    df['log_product_emissions'] = np.log1p(df['product_emissions_MtCO2'])\n",
    "    return df"
   ]
  },
  {
   "cell_type": "markdown",
   "id": "1ed23e38-906d-4680-9b00-1fb09f0ae304",
   "metadata": {},
   "source": [
    "## Preprocessing"
   ]
  },
  {
   "cell_type": "code",
   "execution_count": 88,
   "id": "000a3537-6b3a-41e1-a3d2-9c3606b479b1",
   "metadata": {},
   "outputs": [],
   "source": [
    "def preprocess():\n",
    "    df = load_data()\n",
    "    df = handle_missing_and_outliers(df)\n",
    "    df, encoders = encode_categoricals(df)\n",
    "    df = engineer_features(df)\n",
    "\n",
    "    features = [\n",
    "        'commodity', 'parent_entity', 'parent_type', 'reporting_entity',\n",
    "        'production_unit', 'year', 'log_production_value',\n",
    "        'total_operational_emissions_MtCO2e', 'emissions_intensity'\n",
    "    ]\n",
    "    target = 'product_emissions_MtCO2'\n",
    "\n",
    "    X = df[features]\n",
    "    y = df[target]\n",
    "\n",
    "    X_train, X_test, y_train, y_test = train_test_split(X, y, test_size=0.2, random_state=42)\n",
    "\n",
    "    # Save outputs\n",
    "    joblib.dump((X_train, X_test, y_train, y_test), MODEL_DATA_OUTPUT)\n",
    "    joblib.dump(encoders, LABEL_ENCODERS_PATH)\n",
    "    print(\"Preprocessing complete. Data saved.\")"
   ]
  },
  {
   "cell_type": "code",
   "execution_count": 90,
   "id": "287150ff-2ec0-43b6-886a-b44623fe9673",
   "metadata": {},
   "outputs": [
    {
     "name": "stdout",
     "output_type": "stream",
     "text": [
      "Preprocessing complete. Data saved.\n"
     ]
    }
   ],
   "source": [
    "if __name__ == \"__main__\":\n",
    "    preprocess()"
   ]
  },
  {
   "cell_type": "code",
   "execution_count": null,
   "id": "39ebc2cc-32e5-4a3d-ab5a-0aa1bf698856",
   "metadata": {},
   "outputs": [],
   "source": []
  },
  {
   "cell_type": "code",
   "execution_count": null,
   "id": "b991c4f4-c41d-4947-8d44-b83784b2f648",
   "metadata": {},
   "outputs": [],
   "source": []
  },
  {
   "cell_type": "code",
   "execution_count": null,
   "id": "fabf8466-bf47-4454-b83e-4391cbeb4afc",
   "metadata": {},
   "outputs": [],
   "source": []
  }
 ],
 "metadata": {
  "kernelspec": {
   "display_name": "Python 3 (ipykernel)",
   "language": "python",
   "name": "python3"
  },
  "language_info": {
   "codemirror_mode": {
    "name": "ipython",
    "version": 3
   },
   "file_extension": ".py",
   "mimetype": "text/x-python",
   "name": "python",
   "nbconvert_exporter": "python",
   "pygments_lexer": "ipython3",
   "version": "3.11.7"
  }
 },
 "nbformat": 4,
 "nbformat_minor": 5
}
